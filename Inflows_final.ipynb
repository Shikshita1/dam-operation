{
  "nbformat": 4,
  "nbformat_minor": 0,
  "metadata": {
    "colab": {
      "name": "Inflows_final.ipynb",
      "provenance": [],
      "collapsed_sections": [],
      "include_colab_link": true
    },
    "kernelspec": {
      "display_name": "Python 3",
      "name": "python3"
    },
    "language_info": {
      "name": "python"
    }
  },
  "cells": [
    {
      "cell_type": "markdown",
      "metadata": {
        "id": "view-in-github",
        "colab_type": "text"
      },
      "source": [
        "<a href=\"https://colab.research.google.com/github/Shikshita1/dam-operation/blob/main/Inflows_final.ipynb\" target=\"_parent\"><img src=\"https://colab.research.google.com/assets/colab-badge.svg\" alt=\"Open In Colab\"/></a>"
      ]
    },
    {
      "cell_type": "code",
      "metadata": {
        "colab": {
          "base_uri": "https://localhost:8080/"
        },
        "id": "l70ooY_w6wZn",
        "outputId": "641070eb-69bb-4c7e-942f-580e50cf700e"
      },
      "source": [
        "import numpy as np\n",
        "import matplotlib.pyplot as plt\n",
        "import pandas as pd\n",
        "from google.colab import drive\n",
        "drive.mount('/content/gdrive')\n",
        "import sys \n",
        "sys.path.insert(0, 'MyDrive/Colab Notebooks/Three gorges project')\n",
        "%cd /content/gdrive/MyDrive/Colab Notebooks/Three gorges project\n",
        "%pwd\n",
        "import three_gorges_dam_new_dead as tgd\n"
      ],
      "execution_count": null,
      "outputs": [
        {
          "output_type": "stream",
          "name": "stdout",
          "text": [
            "Drive already mounted at /content/gdrive; to attempt to forcibly remount, call drive.mount(\"/content/gdrive\", force_remount=True).\n",
            "/content/gdrive/MyDrive/Colab Notebooks/Three gorges project\n"
          ]
        }
      ]
    },
    {
      "cell_type": "code",
      "metadata": {
        "id": "pvFaavdmtxs9"
      },
      "source": [
        "def new_flows(data, Q):\n",
        "  Inflow = (pd.DataFrame(data['inflow'])).to_numpy()\n",
        "  Inflow = Inflow[:,0]\n",
        "  SEASONS = ['Winter', 'Spring', 'Summer', 'Autumn']\n",
        "  P = np.array([0.7856, 3.0143, 5.8489, 2.7696])\n",
        "  Q_per = np.divide(Q, P) * 100\n",
        "  I_per = (1.5 * Q_per) - 2.2\n",
        "  I = np.zeros(len(Inflow))\n",
        "  for t in range(len(Inflow)):\n",
        "    if data['month'][t] == 12 or data['month'][t] == 1 or data['month'][t] == 2:\n",
        "      I[t] = Inflow[t] * ( 1 + I_per[0] / 100)\n",
        "    if data['month'][t] == 3 or data['month'][t] == 4 or data['month'][t] == 5:\n",
        "      I[t] = Inflow[t] * ( 1 + I_per[1] / 100)\n",
        "    if data['month'][t] == 6 or data['month'][t] == 7 or data['month'][t] == 8:\n",
        "      I[t] = Inflow[t] * ( 1 + I_per[2] / 100)\n",
        "    if data['month'][t] == 9 or data['month'][t] == 10 or data['month'][t] == 11:\n",
        "      I[t] = Inflow[t] * ( 1 + I_per[3] / 100)\n",
        "  return I\n"
      ],
      "execution_count": null,
      "outputs": []
    },
    {
      "cell_type": "code",
      "metadata": {
        "colab": {
          "base_uri": "https://localhost:8080/"
        },
        "id": "fCkp9W28K0Bo",
        "outputId": "8902c08e-62e9-4619-b725-0f4b2c505e0d"
      },
      "source": [
        "data = pd.read_csv(\"Version 3 Data.csv\",\n",
        "                   header = None, names = ['date','day','month', 'year', 'inflow'])\n",
        "changes = pd.read_csv('Flowchanges.csv', index_col =0)\n",
        "changes = changes.to_dict(orient = 'index')\n",
        "I = np.zeros((15,3283))\n",
        "storage1 = np.zeros((15,3283))\n",
        "Q1 = np.zeros((15,3283))\n",
        "hydropower = np.zeros((15,3283))\n",
        "up_elev = np.zeros((15,3283))\n",
        "i = 0\n",
        "for key1 in changes.keys():\n",
        "  Q = []\n",
        "  change = changes[key1]\n",
        "  for key2 in change:\n",
        "    Q.append(change[key2])\n",
        "  Q = np.array(Q)\n",
        "  I[i] =new_flows(data, Q) \n",
        "  I[i] = I[i] * (86400 * 10 ** (-9))\n",
        "  storage1[i], Q1[i]= tgd.calc_storage(data, I[i])\n",
        "  hydropower[i], up_elev[i] = tgd.calc_hydro(storage1[i], Q1[i])\n",
        "  hydropower1 = tgd.calc_hydro(storage1[i], Q1[i])\n",
        "  print(max(Q1[i]))\n",
        "  i += 1\n",
        "np.savetxt('Inflow.csv', I, delimiter=\",\")\n",
        "np.savetxt('storage.csv', storage1, delimiter=\",\")\n",
        "np.savetxt('outflow.csv', Q1, delimiter=\",\")\n",
        "np.savetxt('hydropower.csv', hydropower, delimiter=\",\")\n",
        "\n",
        "\n",
        "  \n"
      ],
      "execution_count": null,
      "outputs": [
        {
          "output_type": "stream",
          "name": "stdout",
          "text": [
            "6.744200367686233\n",
            "6.671566402325226\n",
            "6.1367162937578\n",
            "6.194493311658604\n",
            "6.303444259700115\n",
            "7.386350652355148\n",
            "7.042990088830379\n",
            "6.669915630385205\n",
            "7.566284793817644\n",
            "5.841228116493696\n",
            "7.1453379491117985\n",
            "7.198162651192533\n",
            "8.18532427132623\n",
            "8.173768867746077\n",
            "6.161477872858143\n",
            "[[39.3        39.3        39.03005323 ... 36.78904905 36.66902544\n",
            "  36.57384716]\n",
            " [39.3        39.3        38.92859702 ... 32.24246045 31.9844564\n",
            "  31.74115205]\n",
            " [39.3        39.3        39.26241667 ... 39.3        39.3\n",
            "  39.3       ]\n",
            " ...\n",
            " [39.3        39.3        39.26241667 ... 39.3        39.3\n",
            "  39.3       ]\n",
            " [39.3        39.3        39.26241667 ... 39.3        39.3\n",
            "  39.3       ]\n",
            " [39.3        39.3        39.26241667 ... 39.3        39.3\n",
            "  39.3       ]] [[0.24845323 0.5184     0.5184     ... 0.45792    0.45792    0.45792   ]\n",
            " [0.14699702 0.5184     0.5184     ... 0.45792    0.45792    0.45792   ]\n",
            " [0.63118235 0.66876569 0.69401298 ... 0.858408   0.92152624 0.89627894]\n",
            " ...\n",
            " [0.72521494 0.76279827 0.79180687 ... 0.98629232 1.05881381 1.02980522]\n",
            " [1.17475669 1.21234003 1.25933029 ... 1.5976691  1.71514477 1.6681545 ]\n",
            " [0.54952248 0.58710581 0.60908671 ... 0.74735057 0.80230282 0.78032192]]\n"
          ]
        }
      ]
    },
    {
      "cell_type": "code",
      "metadata": {
        "id": "UXM-EMA4EYDb"
      },
      "source": [
        ""
      ],
      "execution_count": null,
      "outputs": []
    }
  ]
}